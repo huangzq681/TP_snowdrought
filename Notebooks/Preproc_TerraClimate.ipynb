{
 "cells": [
  {
   "cell_type": "code",
   "execution_count": 1,
   "metadata": {},
   "outputs": [],
   "source": [
    "import xarray as xr\n",
    "import numpy as np\n",
    "from glob import glob\n",
    "import os\n",
    "import cdo\n",
    "os.chdir('/Volumes/Seagate_ZQ2/SWE_datasets/rawData/TerraClimate')"
   ]
  },
  {
   "cell_type": "code",
   "execution_count": 4,
   "metadata": {},
   "outputs": [],
   "source": [
    "for i in range(1979,2023):\n",
    "    swe_i = xr.open_dataset('TerraClimate_swe_' + str(i) + '.nc')\n",
    "    # sort by lat\n",
    "    swe_i = swe_i.sortby('lat', ascending=True)\n",
    "    swe_TP_i = swe_i.sel(lat=slice(22,46), lon=slice(66,108))\n",
    "    swe_TP_i.to_netcdf('TerraClimate_swe_' + str(i) + '_TP.nc')"
   ]
  },
  {
   "cell_type": "code",
   "execution_count": 5,
   "metadata": {},
   "outputs": [
    {
     "data": {
      "text/plain": [
       "'TerraClimate_1979_2022_monthly.nc'"
      ]
     },
     "execution_count": 5,
     "metadata": {},
     "output_type": "execute_result"
    }
   ],
   "source": [
    "# cdo mergetime for files in the directory\n",
    "cdo = cdo.Cdo()\n",
    "cdo.mergetime(input='*.nc', output='TerraClimate_1979_2022_monthly.nc')"
   ]
  },
  {
   "cell_type": "code",
   "execution_count": null,
   "metadata": {},
   "outputs": [],
   "source": []
  }
 ],
 "metadata": {
  "kernelspec": {
   "display_name": "threeDMap",
   "language": "python",
   "name": "python3"
  },
  "language_info": {
   "codemirror_mode": {
    "name": "ipython",
    "version": 3
   },
   "file_extension": ".py",
   "mimetype": "text/x-python",
   "name": "python",
   "nbconvert_exporter": "python",
   "pygments_lexer": "ipython3",
   "version": "3.11.3"
  }
 },
 "nbformat": 4,
 "nbformat_minor": 2
}
