{
 "cells": [
  {
   "cell_type": "markdown",
   "metadata": {},
   "source": [
    "# preprocess JRA55 dataset"
   ]
  },
  {
   "cell_type": "code",
   "execution_count": 10,
   "metadata": {},
   "outputs": [],
   "source": [
    "import xarray as xr\n",
    "import numpy as np\n",
    "from glob import glob\n",
    "import os\n",
    "import cdo\n",
    "os.chdir('/Users/zeqinhuang/Documents/paper/TB_SWE/rawData/JRA55')"
   ]
  },
  {
   "cell_type": "code",
   "execution_count": 8,
   "metadata": {},
   "outputs": [],
   "source": [
    "for i in range(1958,2014):\n",
    "    path = glob('1958-2014/anl_land.*' + str(i) + '*.nc')[0]\n",
    "    ds = xr.open_dataset(path)\n",
    "    # resample to daily\n",
    "    ds = ds.rename({'initial_time0_hours':'time','g4_lat_1':'lat','g4_lon_2':'lon','SnWe_GDS4_SFC':'SWE'})\n",
    "    ds = ds.resample(time='1D').mean()\n",
    "    # save to netcdf\n",
    "    ds.to_netcdf('JRA55_SWE_daily_' + str(i) + '.nc')"
   ]
  },
  {
   "cell_type": "code",
   "execution_count": 8,
   "metadata": {},
   "outputs": [],
   "source": [
    "i=2010\n",
    "path = '/Users/zeqinhuang/Documents/paper/TB_SWE/rawData/JRA55/1958-2014/anl_land.065_snwe.reg_tl319.2010010100_2010123118.huang718084.nc'\n",
    "ds = xr.open_dataset(path)\n",
    "# resample to daily\n",
    "ds = ds.rename({'initial_time0_hours':'time','g4_lat_1':'lat','g4_lon_2':'lon','SnWe_GDS4_SFC':'SWE'})\n",
    "ds = ds.resample(time='1D').mean()\n",
    "# save to netcdf\n",
    "ds.to_netcdf('JRA55_SWE_daily_' + str(i) + '.nc')"
   ]
  },
  {
   "cell_type": "code",
   "execution_count": 9,
   "metadata": {},
   "outputs": [],
   "source": [
    "for i in range(2014,2023):\n",
    "    for m in range(1,13):\n",
    "        path = glob('2014-2023/anl_land.*' + str(i) + str(m).zfill(2) + '*.nc')[0]\n",
    "        ds = xr.open_dataset(path)\n",
    "        # resample to daily\n",
    "        ds = ds.rename({'initial_time0_hours':'time','g4_lat_1':'lat','g4_lon_2':'lon','SnWe_GDS4_SFC':'SWE'})\n",
    "        ds = ds.resample(time='1D').mean()\n",
    "        # save to netcdf\n",
    "        ds.to_netcdf('JRA55_SWE_daily_' + str(i) + str(m).zfill(2) + '.nc')\n",
    "    # combine daily files into yearly files\n",
    "    path = glob('JRA55_SWE_daily_' + str(i) + '*.nc')\n",
    "    ds = xr.open_mfdataset(path)\n",
    "    ds = ds.sortby('time')\n",
    "    ds.to_netcdf('JRA55_SWE_daily_' + str(i) + '.nc')\n",
    "\n",
    "i = 2023\n",
    "for m in range(1,12):\n",
    "    path = glob('2014-2023/anl_land.*' + str(i) + str(m).zfill(2) + '*.nc')[0]\n",
    "    ds = xr.open_dataset(path)\n",
    "    # resample to daily\n",
    "    ds = ds.rename({'initial_time0_hours':'time','g4_lat_1':'lat','g4_lon_2':'lon','SnWe_GDS4_SFC':'SWE'})\n",
    "    ds = ds.resample(time='1D').mean()\n",
    "    # save to netcdf\n",
    "    ds.to_netcdf('JRA55_SWE_daily_' + str(i) + str(m).zfill(2) + '.nc')\n",
    "\n",
    "path = glob('JRA55_SWE_daily_' + str(2023) + '*.nc')\n",
    "ds = xr.open_mfdataset(path)\n",
    "ds = ds.sortby('time')\n",
    "ds.to_netcdf('JRA55_SWE_daily_' + str(i) + '.nc')"
   ]
  },
  {
   "cell_type": "code",
   "execution_count": 12,
   "metadata": {},
   "outputs": [],
   "source": [
    "# combine daily files of each year into one file\n",
    "for i in range(1958,2024):\n",
    "    if i == 1958:\n",
    "        ds_all = xr.open_dataset('JRA55_SWE_daily_' + str(i) + '.nc')\n",
    "    else:\n",
    "        ds = xr.open_dataset('JRA55_SWE_daily_' + str(i) + '.nc')\n",
    "        ds_all = xr.concat([ds_all,ds],dim='time')\n",
    "ds_all = ds_all.sortby('time')\n",
    "ds_all.to_netcdf('JRA55_SWE_daily_1958-2023.nc')"
   ]
  },
  {
   "cell_type": "code",
   "execution_count": 13,
   "metadata": {},
   "outputs": [],
   "source": [
    "ds_all = xr.open_dataset('JRA55_SWE_daily_1958-2023.nc')\n",
    "# ds_all = ds_all.sortby('time')\n",
    "# convert to monthly\n",
    "ds_all_monthly = ds_all.resample(time='1M').mean()\n",
    "# save to netcdf\n",
    "ds_all_monthly.to_netcdf('JRA55_SWE_monthly_1958-2023.nc')"
   ]
  },
  {
   "cell_type": "code",
   "execution_count": null,
   "metadata": {},
   "outputs": [],
   "source": []
  }
 ],
 "metadata": {
  "kernelspec": {
   "display_name": "threeDMap",
   "language": "python",
   "name": "python3"
  },
  "language_info": {
   "codemirror_mode": {
    "name": "ipython",
    "version": 3
   },
   "file_extension": ".py",
   "mimetype": "text/x-python",
   "name": "python",
   "nbconvert_exporter": "python",
   "pygments_lexer": "ipython3",
   "version": "3.11.3"
  }
 },
 "nbformat": 4,
 "nbformat_minor": 2
}
