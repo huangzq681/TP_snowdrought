{
 "cells": [
  {
   "cell_type": "code",
   "execution_count": 1,
   "metadata": {},
   "outputs": [],
   "source": [
    "import xarray as xr\n",
    "import numpy as np\n",
    "from glob import glob\n",
    "import os\n",
    "os.chdir('/Users/zeqinhuang/Documents/paper/TB_SWE/rawData/ERA5-Land')"
   ]
  },
  {
   "cell_type": "code",
   "execution_count": 3,
   "metadata": {},
   "outputs": [],
   "source": [
    "ERA5_land_monthly = xr.open_dataset('ERA5_land_SWE_monthly.nc')\n",
    "ERA5_land_monthly = ERA5_land_monthly.rename({'longitude':'lon','latitude':'lat','sd':'SWE'})\n",
    "ERA5_land_monthly = ERA5_land_monthly.sum(dim='expver')\n",
    "ERA5_land_monthly.to_netcdf('ERA5_land_SWE_monthly1.nc')"
   ]
  },
  {
   "cell_type": "code",
   "execution_count": 5,
   "metadata": {},
   "outputs": [],
   "source": [
    "# remove expver dimension\n",
    "ERA5_land_monthly1 = ERA5_land_monthly.sum(dim='expver')"
   ]
  },
  {
   "cell_type": "code",
   "execution_count": 13,
   "metadata": {},
   "outputs": [],
   "source": [
    "ERA5_land_daily1 = xr.open_dataset('ERA5_land_daily_1.nc')\n",
    "ERA5_land_daily2 = xr.open_dataset('ERA5_land_daily_2.nc')\n",
    "ERA5_land_daily1 = ERA5_land_daily1.rename({'longitude':'lon','latitude':'lat','sd':'SWE'})\n",
    "ERA5_land_daily2 = ERA5_land_daily2.rename({'longitude':'lon','latitude':'lat','sd':'SWE'})\n",
    "ERA5_land_daily2 = ERA5_land_daily2.sum(dim='expver')\n",
    "ERA5_land_daily = xr.concat([ERA5_land_daily1,ERA5_land_daily2],dim='time')\n",
    "ERA5_land_daily.to_netcdf('ERA5_land_SWE_daily.nc')"
   ]
  },
  {
   "cell_type": "code",
   "execution_count": null,
   "metadata": {},
   "outputs": [],
   "source": []
  }
 ],
 "metadata": {
  "kernelspec": {
   "display_name": "threeDMap",
   "language": "python",
   "name": "python3"
  },
  "language_info": {
   "codemirror_mode": {
    "name": "ipython",
    "version": 3
   },
   "file_extension": ".py",
   "mimetype": "text/x-python",
   "name": "python",
   "nbconvert_exporter": "python",
   "pygments_lexer": "ipython3",
   "version": "3.11.3"
  }
 },
 "nbformat": 4,
 "nbformat_minor": 2
}
