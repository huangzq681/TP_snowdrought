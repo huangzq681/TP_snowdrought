{
 "cells": [
  {
   "cell_type": "code",
   "execution_count": 1,
   "metadata": {},
   "outputs": [],
   "source": [
    "import xarray as xr\n",
    "import numpy as np\n",
    "from glob import glob\n",
    "import os\n",
    "os.chdir('/Volumes/Seagate_ZQ2/SWE_datasets/rawData/ERA5')"
   ]
  },
  {
   "cell_type": "code",
   "execution_count": 2,
   "metadata": {},
   "outputs": [],
   "source": [
    "ERA5_monthly = xr.open_dataset('ERA5_TP_t2m_monthly_1979_2023.nc')\n",
    "ERA5_monthly = ERA5_monthly.sum('expver')\n",
    "ERA5_monthly = ERA5_monthly.rename({'latitude':'lat', 'longitude':'lon'})\n",
    "ERA5_monthly.to_netcdf('ERA5_TP_t2m_monthly_1979_2023_2.nc')"
   ]
  },
  {
   "cell_type": "code",
   "execution_count": 5,
   "metadata": {},
   "outputs": [],
   "source": [
    "ERA5_monthly = xr.open_dataset('ERA5_TP_tp_monthly_1979_2023.nc')\n",
    "ERA5_monthly = ERA5_monthly.sum('expver')\n",
    "ERA5_monthly = ERA5_monthly.rename({'latitude':'lat', 'longitude':'lon'})\n",
    "ERA5_monthly.to_netcdf('ERA5_TP_tp_monthly_1979_2023_2.nc')"
   ]
  },
  {
   "cell_type": "code",
   "execution_count": 6,
   "metadata": {},
   "outputs": [],
   "source": [
    "ERA5_monthly = xr.open_dataset('ERA5_TP_u_monthly_1979_2023.nc')\n",
    "ERA5_monthly = ERA5_monthly.sum('expver')\n",
    "ERA5_monthly = ERA5_monthly.rename({'latitude':'lat', 'longitude':'lon'})\n",
    "ERA5_monthly.to_netcdf('ERA5_TP_850u_monthly_1979_2023.nc')"
   ]
  },
  {
   "cell_type": "code",
   "execution_count": 7,
   "metadata": {},
   "outputs": [],
   "source": [
    "ERA5_monthly = xr.open_dataset('ERA5_TP_v_monthly_1979_2023.nc')\n",
    "ERA5_monthly = ERA5_monthly.sum('expver')\n",
    "ERA5_monthly = ERA5_monthly.rename({'latitude':'lat', 'longitude':'lon'})\n",
    "ERA5_monthly.to_netcdf('ERA5_TP_850v_monthly_1979_2023.nc')"
   ]
  },
  {
   "cell_type": "code",
   "execution_count": 8,
   "metadata": {},
   "outputs": [],
   "source": [
    "ERA5_monthly = xr.open_dataset('ERA5_TP_z_monthly_1979_2023.nc')\n",
    "ERA5_monthly = ERA5_monthly.sum('expver')\n",
    "ERA5_monthly = ERA5_monthly.rename({'latitude':'lat', 'longitude':'lon'})\n",
    "ERA5_monthly.to_netcdf('ERA5_TP_500z_monthly_1979_2023.nc')"
   ]
  },
  {
   "cell_type": "code",
   "execution_count": null,
   "metadata": {},
   "outputs": [],
   "source": []
  }
 ],
 "metadata": {
  "kernelspec": {
   "display_name": "threeDMap",
   "language": "python",
   "name": "python3"
  },
  "language_info": {
   "codemirror_mode": {
    "name": "ipython",
    "version": 3
   },
   "file_extension": ".py",
   "mimetype": "text/x-python",
   "name": "python",
   "nbconvert_exporter": "python",
   "pygments_lexer": "ipython3",
   "version": "3.11.3"
  }
 },
 "nbformat": 4,
 "nbformat_minor": 2
}
