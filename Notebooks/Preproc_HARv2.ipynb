{
 "cells": [
  {
   "cell_type": "code",
   "execution_count": 1,
   "metadata": {},
   "outputs": [],
   "source": [
    "import xarray as xr\n",
    "import numpy as np\n",
    "import cdo\n",
    "from glob import glob\n",
    "import os\n",
    "os.chdir('/Users/zeqinhuang/Documents/paper/TB_SWE/rawData/HARv2')"
   ]
  },
  {
   "cell_type": "markdown",
   "metadata": {},
   "source": [
    "### https://github.com/zxdawn/GEOSChem-python-tutorial/blob/master/Chapter04_regridding_WRFChem.ipynb"
   ]
  },
  {
   "cell_type": "markdown",
   "metadata": {},
   "source": [
    "### https://code.mpimet.mpg.de/boards/1/topics/11087"
   ]
  },
  {
   "cell_type": "code",
   "execution_count": 2,
   "metadata": {},
   "outputs": [],
   "source": [
    "from cdo import *\n",
    "cdo = Cdo()\n",
    "\n",
    "for i in range(1980,2021):\n",
    "    cdo.sellonlatbox('66,108,23,46', input='-remapbil,global_0.25 HARv2_monthly/HARv2_d10km_m_2d_snow_' + str(i) + '.nc', output='HARv2_monthly/HARv2_SWE_monthly_' + str(i) + '.nc', options = '-P 8')"
   ]
  },
  {
   "cell_type": "code",
   "execution_count": 44,
   "metadata": {},
   "outputs": [
    {
     "data": {
      "text/plain": [
       "'HARv2_SWE_monthly_2021.nc'"
      ]
     },
     "execution_count": 44,
     "metadata": {},
     "output_type": "execute_result"
    }
   ],
   "source": [
    "cdo.sellonlatbox('66,108,23,46', input='-remapbil,global_0.25 HARv2_monthly/HARv2_d10km_m_2d_snow_2021.nc', output='HARv2_monthly/HARv2_SWE_monthly_2021.nc', options = '-P 8')"
   ]
  },
  {
   "cell_type": "code",
   "execution_count": 45,
   "metadata": {},
   "outputs": [
    {
     "data": {
      "text/plain": [
       "'HARv2_SWE_monthly_2022.nc'"
      ]
     },
     "execution_count": 45,
     "metadata": {},
     "output_type": "execute_result"
    }
   ],
   "source": [
    "cdo.sellonlatbox('66,108,23,46', input='-remapbil,global_0.25 HARv2_monthly/HARv2_d10km_m_2d_snow_2022.nc', output='HARv2_monthly/HARv2_SWE_monthly_2022.nc', options = '-P 8')"
   ]
  },
  {
   "cell_type": "code",
   "execution_count": 46,
   "metadata": {},
   "outputs": [
    {
     "data": {
      "text/plain": [
       "'HARv2_SWE_daily_1980_2022.nc'"
      ]
     },
     "execution_count": 46,
     "metadata": {},
     "output_type": "execute_result"
    }
   ],
   "source": [
    "# merge daily data\n",
    "cdo.mergetime(input='HARv2_daily/HARv2_SWE_daily_*.nc', output='HARv2_SWE_daily_1980_2022.nc')"
   ]
  },
  {
   "cell_type": "code",
   "execution_count": 47,
   "metadata": {},
   "outputs": [
    {
     "data": {
      "text/plain": [
       "'HARv2_SWE_monthly_1980_2022.nc'"
      ]
     },
     "execution_count": 47,
     "metadata": {},
     "output_type": "execute_result"
    }
   ],
   "source": [
    "# merge monthly data\n",
    "cdo.mergetime(input='HARv2_monthly/HARv2_SWE_monthly_*.nc', output='HARv2_SWE_monthly_1980_2022.nc')"
   ]
  },
  {
   "cell_type": "code",
   "execution_count": null,
   "metadata": {},
   "outputs": [],
   "source": []
  }
 ],
 "metadata": {
  "kernelspec": {
   "display_name": "threeDMap",
   "language": "python",
   "name": "python3"
  },
  "language_info": {
   "codemirror_mode": {
    "name": "ipython",
    "version": 3
   },
   "file_extension": ".py",
   "mimetype": "text/x-python",
   "name": "python",
   "nbconvert_exporter": "python",
   "pygments_lexer": "ipython3",
   "version": "3.11.3"
  }
 },
 "nbformat": 4,
 "nbformat_minor": 2
}
