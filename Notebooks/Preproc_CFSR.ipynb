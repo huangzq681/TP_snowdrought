{
 "cells": [
  {
   "cell_type": "code",
   "execution_count": 5,
   "metadata": {},
   "outputs": [],
   "source": [
    "import xarray as xr\n",
    "import numpy as np\n",
    "import cdo\n",
    "from glob import glob\n",
    "import os\n",
    "os.chdir('/Users/zeqinhuang/Documents/paper/TB_SWE/rawData/CFSR')\n",
    "\n",
    "from cdo import *\n",
    "cdo = Cdo()"
   ]
  },
  {
   "cell_type": "code",
   "execution_count": 19,
   "metadata": {},
   "outputs": [],
   "source": [
    "for i in range(1979,2024):\n",
    "    paths = glob('CFSR_daily/*.' + str(i) + '*.nc')\n",
    "    # cdo to merge all the files in the paths\n",
    "    cdo.mergetime(input = paths, output = 'CFSR_daily_' + str(i) + '.nc')\n",
    "    # resample CFSD_daily file to daily\n",
    "    cdo.daymean(input = 'CFSR_daily_' + str(i) + '.nc', output = 'CFSR_daily_' + str(i) + '_daymean.nc')"
   ]
  },
  {
   "cell_type": "code",
   "execution_count": 20,
   "metadata": {},
   "outputs": [
    {
     "data": {
      "text/plain": [
       "'CFSR_daily_1979_2023.nc'"
      ]
     },
     "execution_count": 20,
     "metadata": {},
     "output_type": "execute_result"
    }
   ],
   "source": [
    "# merge all the files\n",
    "paths = glob('CFSR_daily_*_daymean.nc')\n",
    "cdo.mergetime(input = paths, output = 'CFSR_daily_1979_2023.nc')"
   ]
  },
  {
   "cell_type": "code",
   "execution_count": 11,
   "metadata": {},
   "outputs": [
    {
     "data": {
      "text/plain": [
       "16409"
      ]
     },
     "execution_count": 11,
     "metadata": {},
     "output_type": "execute_result"
    }
   ],
   "source": [
    "import pandas as pd\n",
    "a = pd.date_range('1979-01-01', '2023-12-04', freq='D')\n",
    "len(a)"
   ]
  },
  {
   "cell_type": "code",
   "execution_count": 22,
   "metadata": {},
   "outputs": [],
   "source": [
    "# for monthly data\n",
    "for i in range(2011,2024):\n",
    "    paths = glob('CFSR_monthly/*.' + str(i) + '*.nc')\n",
    "    # cdo to merge all the files in the paths\n",
    "    cdo.mergetime(input = paths, output = 'CFSR_monthly/CFSR_monthly_' + str(i) + '.nc')"
   ]
  },
  {
   "cell_type": "code",
   "execution_count": 24,
   "metadata": {},
   "outputs": [],
   "source": [
    "for i in range(1979,2011):\n",
    "    os.rename('CFSR_monthly/pgbh01.gdas.' + str(i) + '.grb2.nc', 'CFSR_monthly/CFSR_monthly_' + str(i) + '.nc')"
   ]
  },
  {
   "cell_type": "code",
   "execution_count": 25,
   "metadata": {},
   "outputs": [
    {
     "data": {
      "text/plain": [
       "'CFSR_monthly_1979_2023.nc'"
      ]
     },
     "execution_count": 25,
     "metadata": {},
     "output_type": "execute_result"
    }
   ],
   "source": [
    "# merge all the files\n",
    "paths = glob('CFSR_monthly/CFSR_monthly_*.nc')\n",
    "cdo.mergetime(input = paths, output = 'CFSR_monthly_1979_2023.nc')"
   ]
  },
  {
   "cell_type": "code",
   "execution_count": null,
   "metadata": {},
   "outputs": [],
   "source": []
  }
 ],
 "metadata": {
  "kernelspec": {
   "display_name": "threeDMap",
   "language": "python",
   "name": "python3"
  },
  "language_info": {
   "codemirror_mode": {
    "name": "ipython",
    "version": 3
   },
   "file_extension": ".py",
   "mimetype": "text/x-python",
   "name": "python",
   "nbconvert_exporter": "python",
   "pygments_lexer": "ipython3",
   "version": "3.11.3"
  }
 },
 "nbformat": 4,
 "nbformat_minor": 2
}
