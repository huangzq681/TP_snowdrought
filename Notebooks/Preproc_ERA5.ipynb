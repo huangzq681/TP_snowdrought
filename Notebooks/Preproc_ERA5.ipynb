{
 "cells": [
  {
   "cell_type": "code",
   "execution_count": 3,
   "metadata": {},
   "outputs": [],
   "source": [
    "import xarray as xr\n",
    "import numpy as np\n",
    "from glob import glob\n",
    "import os\n",
    "os.chdir('/Users/zeqinhuang/Documents/paper/TB_SWE/rawData/ERA5')"
   ]
  },
  {
   "cell_type": "code",
   "execution_count": 4,
   "metadata": {},
   "outputs": [],
   "source": [
    "ERA5_monthly = xr.open_dataset('ERA5_SWE_monthly.nc')\n",
    "ERA5_monthly = ERA5_monthly.rename({'longitude':'lon','latitude':'lat','sd':'SWE'})\n",
    "ERA5_monthly = ERA5_monthly.sum(dim='expver')\n",
    "ERA5_monthly.to_netcdf('ERA5_SWE_monthly1.nc')"
   ]
  },
  {
   "cell_type": "code",
   "execution_count": 5,
   "metadata": {},
   "outputs": [],
   "source": [
    "ERA5_daily = xr.open_dataset('ERA5_SWE_daily.nc')\n",
    "ERA5_daily = ERA5_daily.rename({'longitude':'lon','latitude':'lat','sd':'SWE'})\n",
    "ERA5_daily = ERA5_daily.sum(dim='expver')\n",
    "ERA5_daily.to_netcdf('ERA5_SWE_daily1.nc')"
   ]
  }
 ],
 "metadata": {
  "kernelspec": {
   "display_name": "threeDMap",
   "language": "python",
   "name": "python3"
  },
  "language_info": {
   "codemirror_mode": {
    "name": "ipython",
    "version": 3
   },
   "file_extension": ".py",
   "mimetype": "text/x-python",
   "name": "python",
   "nbconvert_exporter": "python",
   "pygments_lexer": "ipython3",
   "version": "3.11.3"
  }
 },
 "nbformat": 4,
 "nbformat_minor": 2
}
